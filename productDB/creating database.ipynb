{
 "cells": [
  {
   "cell_type": "code",
   "execution_count": 3,
   "metadata": {},
   "outputs": [],
   "source": [
    "import sqlite3\n",
    "\n",
    "conn =  sqlite3.connect('saharaProduct.db')"
   ]
  },
  {
   "cell_type": "code",
   "execution_count": 2,
   "metadata": {},
   "outputs": [],
   "source": [
    "import pandas as pd"
   ]
  },
  {
   "cell_type": "code",
   "execution_count": 7,
   "metadata": {},
   "outputs": [],
   "source": [
    "cq = conn.execute(\"SELECT * FROM product\")"
   ]
  },
  {
   "cell_type": "code",
   "execution_count": 8,
   "metadata": {},
   "outputs": [
    {
     "data": {
      "text/html": [
       "<div>\n",
       "<style scoped>\n",
       "    .dataframe tbody tr th:only-of-type {\n",
       "        vertical-align: middle;\n",
       "    }\n",
       "\n",
       "    .dataframe tbody tr th {\n",
       "        vertical-align: top;\n",
       "    }\n",
       "\n",
       "    .dataframe thead th {\n",
       "        text-align: right;\n",
       "    }\n",
       "</style>\n",
       "<table border=\"1\" class=\"dataframe\">\n",
       "  <thead>\n",
       "    <tr style=\"text-align: right;\">\n",
       "      <th></th>\n",
       "      <th>0</th>\n",
       "      <th>1</th>\n",
       "      <th>2</th>\n",
       "      <th>3</th>\n",
       "      <th>4</th>\n",
       "      <th>5</th>\n",
       "      <th>6</th>\n",
       "      <th>7</th>\n",
       "      <th>8</th>\n",
       "    </tr>\n",
       "  </thead>\n",
       "  <tbody>\n",
       "    <tr>\n",
       "      <th>0</th>\n",
       "      <td>1</td>\n",
       "      <td>omo</td>\n",
       "      <td>shoes</td>\n",
       "      <td>1</td>\n",
       "      <td>1</td>\n",
       "      <td>1-1-1</td>\n",
       "      <td>1-1-1</td>\n",
       "      <td>1-1-1</td>\n",
       "      <td>zomba</td>\n",
       "    </tr>\n",
       "    <tr>\n",
       "      <th>1</th>\n",
       "      <td>2</td>\n",
       "      <td>topsoy</td>\n",
       "      <td>food</td>\n",
       "      <td>3</td>\n",
       "      <td>100</td>\n",
       "      <td>10-10-10</td>\n",
       "      <td>10-10-10</td>\n",
       "      <td>10-10-10</td>\n",
       "      <td>mpunga</td>\n",
       "    </tr>\n",
       "    <tr>\n",
       "      <th>2</th>\n",
       "      <td>3</td>\n",
       "      <td>hp</td>\n",
       "      <td>laptop</td>\n",
       "      <td>1000</td>\n",
       "      <td>11</td>\n",
       "      <td>10-10-10</td>\n",
       "      <td>10-10-10</td>\n",
       "      <td>10-10-10</td>\n",
       "      <td>blockbuster</td>\n",
       "    </tr>\n",
       "    <tr>\n",
       "      <th>3</th>\n",
       "      <td>4</td>\n",
       "      <td>dior</td>\n",
       "      <td>shoes</td>\n",
       "      <td>12</td>\n",
       "      <td>12</td>\n",
       "      <td>10-10-10</td>\n",
       "      <td>-</td>\n",
       "      <td>-</td>\n",
       "      <td>zomba</td>\n",
       "    </tr>\n",
       "  </tbody>\n",
       "</table>\n",
       "</div>"
      ],
      "text/plain": [
       "   0       1       2     3    4         5         6         7            8\n",
       "0  1     omo   shoes     1    1     1-1-1     1-1-1     1-1-1        zomba\n",
       "1  2  topsoy    food     3  100  10-10-10  10-10-10  10-10-10       mpunga\n",
       "2  3      hp  laptop  1000   11  10-10-10  10-10-10  10-10-10  blockbuster\n",
       "3  4    dior   shoes    12   12  10-10-10         -         -        zomba"
      ]
     },
     "execution_count": 8,
     "metadata": {},
     "output_type": "execute_result"
    }
   ],
   "source": [
    "pd.DataFrame(cq)"
   ]
  },
  {
   "cell_type": "code",
   "execution_count": null,
   "metadata": {},
   "outputs": [],
   "source": []
  }
 ],
 "metadata": {
  "kernelspec": {
   "display_name": "Python 3",
   "language": "python",
   "name": "python3"
  },
  "language_info": {
   "codemirror_mode": {
    "name": "ipython",
    "version": 3
   },
   "file_extension": ".py",
   "mimetype": "text/x-python",
   "name": "python",
   "nbconvert_exporter": "python",
   "pygments_lexer": "ipython3",
   "version": "3.7.3"
  }
 },
 "nbformat": 4,
 "nbformat_minor": 2
}
